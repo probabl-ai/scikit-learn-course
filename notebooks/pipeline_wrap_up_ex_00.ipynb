{
 "cells": [
  {
   "cell_type": "markdown",
   "metadata": {},
   "source": [
    "# \ud83c\udfc1 Wrap-up quiz 1\n",
    "\n",
    "This notebook contains the guided project to answer the hands-on questions\n",
    "corresponding to the module \"The predictive modeling pipeline\" of the\n",
    "Associate Practitioner Course. In this test **we do not have access to your\n",
    "code**. Only it's output is evaluated by using the multiple choice questions,\n",
    "to be answered in the dedicated User Interface.\n",
    "\n",
    "First run the following cell to initialize jupyterlite. Notice that only basic\n",
    "libraries are available, such as pandas, matplotlib, seaborn and numpy.\n",
    "Remember that the initial import of libraries can take longer than usual, it\n",
    "may take around 10-20 seconds for the following cell to run. Please be\n",
    "patient."
   ]
  },
  {
   "cell_type": "code",
   "execution_count": null,
   "metadata": {},
   "outputs": [],
   "source": [
    "%pip install seaborn==0.13.2\n",
    "import matplotlib\n",
    "import numpy\n",
    "import pandas\n",
    "import seaborn\n",
    "import sklearn"
   ]
  },
  {
   "cell_type": "markdown",
   "metadata": {},
   "source": [
    "Load the `ames_housing_no_missing.csv` dataset with the following cell of code.\n",
    "\n",
    "The target is the \"SalePrice\" column. As we have not encountered any\n",
    "regression problem yet, we convert the regression target into a classification\n",
    "target, where the goal is to predict whether or not the sale price of a house\n",
    "is greater than $200,000."
   ]
  },
  {
   "cell_type": "code",
   "execution_count": null,
   "metadata": {},
   "outputs": [],
   "source": [
    "import pandas as pd\n",
    "ames_housing = pd.read_csv(\"../datasets/ames_housing_no_missing.csv\")\n",
    "\n",
    "target_name = \"SalePrice\"\n",
    "data, target = ames_housing.drop(columns=target_name), ames_housing[target_name]\n",
    "target = (target > 200_000).astype(int)"
   ]
  },
  {
   "cell_type": "markdown",
   "metadata": {},
   "source": [
    "Use the `data.info()` and ` data.head()` commands to examine the columns of\n",
    "the dataframe. The dataset contains:\n",
    "\n",
    "- a) only numerical features\n",
    "- b) only categorical features\n",
    "- c) both numerical and categorical features\n",
    "\n",
    "_Select a single answer_"
   ]
  },
  {
   "cell_type": "code",
   "execution_count": null,
   "metadata": {},
   "outputs": [],
   "source": [
    "# Write your code here."
   ]
  },
  {
   "cell_type": "markdown",
   "metadata": {},
   "source": [
    "How many features are available to predict whether or not a house is\n",
    "expensive?\n",
    "\n",
    "- a) 79\n",
    "- b) 80\n",
    "- c) 81\n",
    "\n",
    "_Select a single answer_"
   ]
  },
  {
   "cell_type": "code",
   "execution_count": null,
   "metadata": {},
   "outputs": [],
   "source": [
    "# Write your code here."
   ]
  },
  {
   "cell_type": "markdown",
   "metadata": {},
   "source": [
    "How many features are represented with numbers?\n",
    "\n",
    "- a) 0\n",
    "- b) 36\n",
    "- c) 42\n",
    "- d) 79\n",
    "\n",
    "_Select a single answer_\n",
    "\n",
    "Hint: you can use the method\n",
    "[`df.select_dtypes`](https://pandas.pydata.org/pandas-docs/stable/reference/api/pandas.DataFrame.select_dtypes.html)\n",
    "or the function\n",
    "[`sklearn.compose.make_column_selector`](https://scikit-learn.org/stable/modules/generated/sklearn.compose.make_column_selector.html)\n",
    "as shown in a previous notebook."
   ]
  },
  {
   "cell_type": "code",
   "execution_count": null,
   "metadata": {},
   "outputs": [],
   "source": [
    "# Write your code here."
   ]
  },
  {
   "cell_type": "markdown",
   "metadata": {},
   "source": [
    "Refer to the [dataset description](https://www.openml.org/d/42165) regarding\n",
    "the meaning of the features.\n",
    "\n",
    "Among the following features, which of them express a quantitative numerical\n",
    "value (excluding ordinal categories)?\n",
    "\n",
    "- a) \"LotFrontage\"\n",
    "- b) \"LotArea\"\n",
    "- c) \"OverallQual\"\n",
    "- d) \"OverallCond\"\n",
    "- e) \"YearBuilt\""
   ]
  },
  {
   "cell_type": "markdown",
   "metadata": {},
   "source": [
    "We consider the following numerical columns:"
   ]
  },
  {
   "cell_type": "code",
   "execution_count": null,
   "metadata": {},
   "outputs": [],
   "source": [
    "numerical_features = [\n",
    "  \"LotFrontage\", \"LotArea\", \"MasVnrArea\", \"BsmtFinSF1\", \"BsmtFinSF2\",\n",
    "  \"BsmtUnfSF\", \"TotalBsmtSF\", \"1stFlrSF\", \"2ndFlrSF\", \"LowQualFinSF\",\n",
    "  \"GrLivArea\", \"BedroomAbvGr\", \"KitchenAbvGr\", \"TotRmsAbvGrd\", \"Fireplaces\",\n",
    "  \"GarageCars\", \"GarageArea\", \"WoodDeckSF\", \"OpenPorchSF\", \"EnclosedPorch\",\n",
    "  \"3SsnPorch\", \"ScreenPorch\", \"PoolArea\", \"MiscVal\",\n",
    "]"
   ]
  },
  {
   "cell_type": "markdown",
   "metadata": {},
   "source": [
    "Now create a predictive model that uses these numerical columns as input data.\n",
    "Your predictive model should be a pipeline composed of a\n",
    "[`sklearn.preprocessing.StandardScaler`](https://scikit-learn.org/stable/modules/generated/sklearn.preprocessing.StandardScaler.html)\n",
    "to scale these numerical data and a\n",
    "[`sklearn.linear_model.LogisticRegression`](https://scikit-learn.org/stable/modules/generated/sklearn.linear_model.LogisticRegression.html).\n",
    "\n",
    "What is the accuracy score obtained by 10-fold cross-validation (you can set\n",
    "the parameter `cv=10` when calling `cross_validate`) of this pipeline?\n",
    "\n",
    "- a) ~0.5\n",
    "- b) ~0.7\n",
    "- c) ~0.9\n",
    "\n",
    "_Select a single answer_"
   ]
  },
  {
   "cell_type": "code",
   "execution_count": null,
   "metadata": {},
   "outputs": [],
   "source": [
    "# Write your code here."
   ]
  },
  {
   "cell_type": "markdown",
   "metadata": {},
   "source": [
    "Instead of solely using the numerical columns, let us build a pipeline that\n",
    "can process both the numerical and categorical features together as follows:\n",
    "- the `numerical_features` (as defined above) should be processed as previously\n",
    "  done with a `StandardScaler`;\n",
    "- the left-out columns should be treated as categorical variables using a\n",
    "  [`sklearn.preprocessing.OneHotEncoder`](https://scikit-learn.org/stable/modules/generated/sklearn.preprocessing.OneHotEncoder.html).\n",
    "\n",
    "To avoid any issue with rare categories that could only be present during the\n",
    "prediction, you can pass the parameter `handle_unknown=\"ignore\"` to the\n",
    "`OneHotEncoder`.\n",
    "\n",
    "What is the accuracy score obtained by 10-fold cross-validation of the\n",
    "pipeline using both the numerical and categorical features?\n",
    "\n",
    "- a) ~0.7\n",
    "- b) ~0.9\n",
    "- c) ~1.0\n",
    "\n",
    "_Select a single answer_"
   ]
  },
  {
   "cell_type": "code",
   "execution_count": null,
   "metadata": {},
   "outputs": [],
   "source": [
    "# Write your code here."
   ]
  },
  {
   "cell_type": "markdown",
   "metadata": {},
   "source": [
    "One way to compare two models is by comparing their means, but small\n",
    "differences in performance measures might easily turn out to be merely by\n",
    "chance (e.g. when using random resampling during cross-validation), and not\n",
    "because one model predicts systematically better than the other.\n",
    "\n",
    "Another way is to compare cross-validation test scores of both models\n",
    "fold-to-fold, i.e. counting the number of folds where one model has a better\n",
    "test score than the other. This provides some extra information: are some\n",
    "partitions of the data making the classification task particularly easy or\n",
    "hard for both models?\n",
    "\n",
    "Let's visualize the second approach:\n",
    "\n",
    "![Fold-to-fold comparison](../figures/numerical_pipeline_wrap_up_quiz_comparison.png)\n",
    "\n",
    "Select the true statement.\n",
    "\n",
    "The number of folds where the model using all features perform better than the\n",
    "model using only numerical features lies in the range:\n",
    "\n",
    "- a) [0, 3]: the model using all features is consistently worse\n",
    "- b) [4, 6]: both models are almost equivalent\n",
    "- c) [7, 10]: the model using all features is consistently better\n",
    "\n",
    "_Select a single answer_"
   ]
  },
  {
   "cell_type": "code",
   "execution_count": null,
   "metadata": {},
   "outputs": [],
   "source": [
    "# Write your code here."
   ]
  }
 ],
 "metadata": {
  "jupytext": {
   "main_language": "python"
  },
  "kernelspec": {
   "display_name": "Python 3",
   "name": "python3"
  }
 },
 "nbformat": 4,
 "nbformat_minor": 5
}